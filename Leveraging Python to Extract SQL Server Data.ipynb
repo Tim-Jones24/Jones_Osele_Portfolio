{
 "cells": [
  {
   "cell_type": "markdown",
   "id": "7d69626d",
   "metadata": {},
   "source": [
    "### Read and Load Data from MSSQL database into Python"
   ]
  },
  {
   "cell_type": "markdown",
   "id": "a01fa28e",
   "metadata": {},
   "source": [
    "### Method 1: Utilizing the Pypyodbc Library"
   ]
  },
  {
   "cell_type": "markdown",
   "id": "5bc68349",
   "metadata": {},
   "source": [
    "####  Load Libraries"
   ]
  },
  {
   "cell_type": "code",
   "execution_count": 38,
   "id": "881a2f80",
   "metadata": {},
   "outputs": [],
   "source": [
    "import pypyodbc as podbc\n",
    "import pandas as pd"
   ]
  },
  {
   "cell_type": "markdown",
   "id": "e269be8c",
   "metadata": {},
   "source": [
    "#### Create Connection"
   ]
  },
  {
   "cell_type": "code",
   "execution_count": 39,
   "id": "403a7e8e",
   "metadata": {},
   "outputs": [],
   "source": [
    "cr_connect= podbc.connect (\"\"\"\n",
    "                   Driver={ODBC Driver 17 for SQL Server}; \n",
    "                   Server=DESKTOP-ULUKUD4;\n",
    "                   Database=Practice;\n",
    "                   Trusted_Connection=yes;\n",
    "                   \"\"\"\n",
    ")"
   ]
  },
  {
   "cell_type": "markdown",
   "id": "77bad1af",
   "metadata": {},
   "source": [
    "#### Execute Query to Fetch data"
   ]
  },
  {
   "cell_type": "code",
   "execution_count": 40,
   "id": "7a860f74",
   "metadata": {},
   "outputs": [
    {
     "name": "stderr",
     "output_type": "stream",
     "text": [
      "<ipython-input-40-36099b21294f>:1: UserWarning: pandas only supports SQLAlchemy connectable (engine/connection) or database string URI or sqlite3 DBAPI2 connection. Other DBAPI2 objects are not tested. Please consider using SQLAlchemy.\n",
      "  Query= pd.read_sql_query (\"select* from sales_data\",cr_connect)\n"
     ]
    },
    {
     "data": {
      "text/html": [
       "<div>\n",
       "<style scoped>\n",
       "    .dataframe tbody tr th:only-of-type {\n",
       "        vertical-align: middle;\n",
       "    }\n",
       "\n",
       "    .dataframe tbody tr th {\n",
       "        vertical-align: top;\n",
       "    }\n",
       "\n",
       "    .dataframe thead th {\n",
       "        text-align: right;\n",
       "    }\n",
       "</style>\n",
       "<table border=\"1\" class=\"dataframe\">\n",
       "  <thead>\n",
       "    <tr style=\"text-align: right;\">\n",
       "      <th></th>\n",
       "      <th>date</th>\n",
       "      <th>sales_rep</th>\n",
       "      <th>shift</th>\n",
       "      <th>expenses</th>\n",
       "      <th>revenue</th>\n",
       "      <th>profit</th>\n",
       "      <th>profit%</th>\n",
       "      <th>commission</th>\n",
       "      <th>weekday</th>\n",
       "      <th>payment_shift</th>\n",
       "    </tr>\n",
       "  </thead>\n",
       "  <tbody>\n",
       "    <tr>\n",
       "      <th>0</th>\n",
       "      <td>2022-07-01</td>\n",
       "      <td>Ben</td>\n",
       "      <td>Night</td>\n",
       "      <td>1112.94</td>\n",
       "      <td>1288.00</td>\n",
       "      <td>175.06</td>\n",
       "      <td>15.73</td>\n",
       "      <td>6.44</td>\n",
       "      <td>Friday</td>\n",
       "      <td>50.0</td>\n",
       "    </tr>\n",
       "    <tr>\n",
       "      <th>1</th>\n",
       "      <td>2022-07-01</td>\n",
       "      <td>Jacob</td>\n",
       "      <td>Day</td>\n",
       "      <td>1095.50</td>\n",
       "      <td>1250.75</td>\n",
       "      <td>155.25</td>\n",
       "      <td>14.17</td>\n",
       "      <td>6.25</td>\n",
       "      <td>Friday</td>\n",
       "      <td>40.0</td>\n",
       "    </tr>\n",
       "    <tr>\n",
       "      <th>2</th>\n",
       "      <td>2022-07-04</td>\n",
       "      <td>Ben</td>\n",
       "      <td>Night</td>\n",
       "      <td>1120.94</td>\n",
       "      <td>1295.00</td>\n",
       "      <td>174.06</td>\n",
       "      <td>15.53</td>\n",
       "      <td>6.47</td>\n",
       "      <td>Monday</td>\n",
       "      <td>50.0</td>\n",
       "    </tr>\n",
       "    <tr>\n",
       "      <th>3</th>\n",
       "      <td>2022-07-04</td>\n",
       "      <td>Jacob</td>\n",
       "      <td>Day</td>\n",
       "      <td>1509.73</td>\n",
       "      <td>1687.75</td>\n",
       "      <td>178.02</td>\n",
       "      <td>11.79</td>\n",
       "      <td>0.00</td>\n",
       "      <td>Monday</td>\n",
       "      <td>40.0</td>\n",
       "    </tr>\n",
       "    <tr>\n",
       "      <th>4</th>\n",
       "      <td>2022-07-05</td>\n",
       "      <td>Ben</td>\n",
       "      <td>Day</td>\n",
       "      <td>1235.33</td>\n",
       "      <td>1412.25</td>\n",
       "      <td>176.92</td>\n",
       "      <td>14.32</td>\n",
       "      <td>7.06</td>\n",
       "      <td>Tuesday</td>\n",
       "      <td>40.0</td>\n",
       "    </tr>\n",
       "  </tbody>\n",
       "</table>\n",
       "</div>"
      ],
      "text/plain": [
       "         date sales_rep  shift  expenses  revenue  profit  profit%  \\\n",
       "0  2022-07-01       Ben  Night   1112.94  1288.00  175.06    15.73   \n",
       "1  2022-07-01     Jacob    Day   1095.50  1250.75  155.25    14.17   \n",
       "2  2022-07-04       Ben  Night   1120.94  1295.00  174.06    15.53   \n",
       "3  2022-07-04     Jacob    Day   1509.73  1687.75  178.02    11.79   \n",
       "4  2022-07-05       Ben    Day   1235.33  1412.25  176.92    14.32   \n",
       "\n",
       "   commission  weekday  payment_shift  \n",
       "0        6.44   Friday           50.0  \n",
       "1        6.25   Friday           40.0  \n",
       "2        6.47   Monday           50.0  \n",
       "3        0.00   Monday           40.0  \n",
       "4        7.06  Tuesday           40.0  "
      ]
     },
     "execution_count": 40,
     "metadata": {},
     "output_type": "execute_result"
    }
   ],
   "source": [
    "Query= pd.read_sql_query (\"select* from sales_data\",cr_connect)\n",
    "Query.head()"
   ]
  },
  {
   "cell_type": "code",
   "execution_count": 41,
   "id": "ce5ee512",
   "metadata": {},
   "outputs": [
    {
     "data": {
      "text/html": [
       "<div>\n",
       "<style scoped>\n",
       "    .dataframe tbody tr th:only-of-type {\n",
       "        vertical-align: middle;\n",
       "    }\n",
       "\n",
       "    .dataframe tbody tr th {\n",
       "        vertical-align: top;\n",
       "    }\n",
       "\n",
       "    .dataframe thead th {\n",
       "        text-align: right;\n",
       "    }\n",
       "</style>\n",
       "<table border=\"1\" class=\"dataframe\">\n",
       "  <thead>\n",
       "    <tr style=\"text-align: right;\">\n",
       "      <th></th>\n",
       "      <th>date</th>\n",
       "      <th>sales_rep</th>\n",
       "      <th>shift</th>\n",
       "      <th>expenses</th>\n",
       "      <th>revenue</th>\n",
       "      <th>profit</th>\n",
       "      <th>profit%</th>\n",
       "      <th>commission</th>\n",
       "      <th>weekday</th>\n",
       "      <th>payment_shift</th>\n",
       "    </tr>\n",
       "  </thead>\n",
       "  <tbody>\n",
       "    <tr>\n",
       "      <th>83</th>\n",
       "      <td>2022-08-29</td>\n",
       "      <td>Jacob</td>\n",
       "      <td>Day</td>\n",
       "      <td>774.20</td>\n",
       "      <td>946.25</td>\n",
       "      <td>172.05</td>\n",
       "      <td>22.22</td>\n",
       "      <td>14.19</td>\n",
       "      <td>Monday</td>\n",
       "      <td>40.0</td>\n",
       "    </tr>\n",
       "    <tr>\n",
       "      <th>84</th>\n",
       "      <td>2022-08-30</td>\n",
       "      <td>Ben</td>\n",
       "      <td>Day</td>\n",
       "      <td>1350.48</td>\n",
       "      <td>1509.50</td>\n",
       "      <td>159.02</td>\n",
       "      <td>11.78</td>\n",
       "      <td>0.00</td>\n",
       "      <td>Tuesday</td>\n",
       "      <td>40.0</td>\n",
       "    </tr>\n",
       "    <tr>\n",
       "      <th>85</th>\n",
       "      <td>2022-08-30</td>\n",
       "      <td>Jacob</td>\n",
       "      <td>Night</td>\n",
       "      <td>1053.37</td>\n",
       "      <td>1136.25</td>\n",
       "      <td>82.88</td>\n",
       "      <td>7.87</td>\n",
       "      <td>0.00</td>\n",
       "      <td>Tuesday</td>\n",
       "      <td>50.0</td>\n",
       "    </tr>\n",
       "    <tr>\n",
       "      <th>86</th>\n",
       "      <td>2022-08-31</td>\n",
       "      <td>Ben</td>\n",
       "      <td>Night</td>\n",
       "      <td>1161.92</td>\n",
       "      <td>1237.00</td>\n",
       "      <td>75.08</td>\n",
       "      <td>6.46</td>\n",
       "      <td>0.00</td>\n",
       "      <td>Wednesday</td>\n",
       "      <td>50.0</td>\n",
       "    </tr>\n",
       "    <tr>\n",
       "      <th>87</th>\n",
       "      <td>2022-08-31</td>\n",
       "      <td>Jacob</td>\n",
       "      <td>Day</td>\n",
       "      <td>951.93</td>\n",
       "      <td>1136.00</td>\n",
       "      <td>184.07</td>\n",
       "      <td>19.34</td>\n",
       "      <td>5.68</td>\n",
       "      <td>Wednesday</td>\n",
       "      <td>40.0</td>\n",
       "    </tr>\n",
       "  </tbody>\n",
       "</table>\n",
       "</div>"
      ],
      "text/plain": [
       "          date sales_rep  shift  expenses  revenue  profit  profit%  \\\n",
       "83  2022-08-29     Jacob    Day    774.20   946.25  172.05    22.22   \n",
       "84  2022-08-30       Ben    Day   1350.48  1509.50  159.02    11.78   \n",
       "85  2022-08-30     Jacob  Night   1053.37  1136.25   82.88     7.87   \n",
       "86  2022-08-31       Ben  Night   1161.92  1237.00   75.08     6.46   \n",
       "87  2022-08-31     Jacob    Day    951.93  1136.00  184.07    19.34   \n",
       "\n",
       "    commission    weekday  payment_shift  \n",
       "83       14.19     Monday           40.0  \n",
       "84        0.00    Tuesday           40.0  \n",
       "85        0.00    Tuesday           50.0  \n",
       "86        0.00  Wednesday           50.0  \n",
       "87        5.68  Wednesday           40.0  "
      ]
     },
     "execution_count": 41,
     "metadata": {},
     "output_type": "execute_result"
    }
   ],
   "source": [
    "Query.tail()"
   ]
  },
  {
   "cell_type": "code",
   "execution_count": 42,
   "id": "33d02552",
   "metadata": {},
   "outputs": [
    {
     "name": "stdout",
     "output_type": "stream",
     "text": [
      "<class 'pandas.core.frame.DataFrame'>\n",
      "RangeIndex: 88 entries, 0 to 87\n",
      "Data columns (total 10 columns):\n",
      " #   Column         Non-Null Count  Dtype  \n",
      "---  ------         --------------  -----  \n",
      " 0   date           88 non-null     object \n",
      " 1   sales_rep      88 non-null     object \n",
      " 2   shift          88 non-null     object \n",
      " 3   expenses       88 non-null     float64\n",
      " 4   revenue        88 non-null     float64\n",
      " 5   profit         88 non-null     float64\n",
      " 6   profit%        88 non-null     float64\n",
      " 7   commission     88 non-null     float64\n",
      " 8   weekday        88 non-null     object \n",
      " 9   payment_shift  88 non-null     float64\n",
      "dtypes: float64(6), object(4)\n",
      "memory usage: 7.0+ KB\n"
     ]
    }
   ],
   "source": [
    "Query.info()"
   ]
  },
  {
   "cell_type": "code",
   "execution_count": 43,
   "id": "fd69b287",
   "metadata": {},
   "outputs": [
    {
     "data": {
      "text/plain": [
       "(88, 10)"
      ]
     },
     "execution_count": 43,
     "metadata": {},
     "output_type": "execute_result"
    }
   ],
   "source": [
    "Query.shape"
   ]
  },
  {
   "cell_type": "code",
   "execution_count": null,
   "id": "4733a6b2",
   "metadata": {},
   "outputs": [],
   "source": []
  },
  {
   "cell_type": "markdown",
   "id": "dc321248",
   "metadata": {},
   "source": [
    "### Method 2: Utilizing the SQL Alchemy Library"
   ]
  },
  {
   "cell_type": "markdown",
   "id": "c8f86566",
   "metadata": {},
   "source": [
    "#### Load Library"
   ]
  },
  {
   "cell_type": "code",
   "execution_count": 44,
   "id": "bb913e8a",
   "metadata": {},
   "outputs": [],
   "source": [
    "from sqlalchemy import create_engine\n",
    "import pandas as pd"
   ]
  },
  {
   "cell_type": "markdown",
   "id": "d06633d8",
   "metadata": {},
   "source": [
    "#### Create Connection"
   ]
  },
  {
   "cell_type": "code",
   "execution_count": 45,
   "id": "b916133e",
   "metadata": {},
   "outputs": [],
   "source": [
    "Server= 'DESKTOP-ULUKUD4'\n",
    "Database= 'Practice'\n",
    "Driver= 'ODBC Driver 17 for SQL Server'\n",
    "Database_Connection= f'mssql://{Server}/{Database}?driver={Driver}'"
   ]
  },
  {
   "cell_type": "code",
   "execution_count": 46,
   "id": "ec502dfe",
   "metadata": {},
   "outputs": [],
   "source": [
    "engine= create_engine(Database_Connection)\n",
    "connection= engine.connect()"
   ]
  },
  {
   "cell_type": "markdown",
   "id": "841e6ebc",
   "metadata": {},
   "source": [
    "#### Excecuting Query to Fetch data"
   ]
  },
  {
   "cell_type": "code",
   "execution_count": 47,
   "id": "b796061b",
   "metadata": {},
   "outputs": [],
   "source": [
    "df= pd.read_sql_query(\"Select * from sales_data\",connection)"
   ]
  },
  {
   "cell_type": "code",
   "execution_count": 48,
   "id": "5b311e45",
   "metadata": {},
   "outputs": [
    {
     "data": {
      "text/html": [
       "<div>\n",
       "<style scoped>\n",
       "    .dataframe tbody tr th:only-of-type {\n",
       "        vertical-align: middle;\n",
       "    }\n",
       "\n",
       "    .dataframe tbody tr th {\n",
       "        vertical-align: top;\n",
       "    }\n",
       "\n",
       "    .dataframe thead th {\n",
       "        text-align: right;\n",
       "    }\n",
       "</style>\n",
       "<table border=\"1\" class=\"dataframe\">\n",
       "  <thead>\n",
       "    <tr style=\"text-align: right;\">\n",
       "      <th></th>\n",
       "      <th>Date</th>\n",
       "      <th>Sales_Rep</th>\n",
       "      <th>Shift</th>\n",
       "      <th>Expenses</th>\n",
       "      <th>Revenue</th>\n",
       "      <th>Profit</th>\n",
       "      <th>Profit%</th>\n",
       "      <th>Commission</th>\n",
       "      <th>Weekday</th>\n",
       "      <th>Payment_Shift</th>\n",
       "    </tr>\n",
       "  </thead>\n",
       "  <tbody>\n",
       "    <tr>\n",
       "      <th>0</th>\n",
       "      <td>2022-07-01</td>\n",
       "      <td>Ben</td>\n",
       "      <td>Night</td>\n",
       "      <td>1112.94</td>\n",
       "      <td>1288.00</td>\n",
       "      <td>175.06</td>\n",
       "      <td>15.73</td>\n",
       "      <td>6.44</td>\n",
       "      <td>Friday</td>\n",
       "      <td>50.0</td>\n",
       "    </tr>\n",
       "    <tr>\n",
       "      <th>1</th>\n",
       "      <td>2022-07-01</td>\n",
       "      <td>Jacob</td>\n",
       "      <td>Day</td>\n",
       "      <td>1095.50</td>\n",
       "      <td>1250.75</td>\n",
       "      <td>155.25</td>\n",
       "      <td>14.17</td>\n",
       "      <td>6.25</td>\n",
       "      <td>Friday</td>\n",
       "      <td>40.0</td>\n",
       "    </tr>\n",
       "    <tr>\n",
       "      <th>2</th>\n",
       "      <td>2022-07-04</td>\n",
       "      <td>Ben</td>\n",
       "      <td>Night</td>\n",
       "      <td>1120.94</td>\n",
       "      <td>1295.00</td>\n",
       "      <td>174.06</td>\n",
       "      <td>15.53</td>\n",
       "      <td>6.47</td>\n",
       "      <td>Monday</td>\n",
       "      <td>50.0</td>\n",
       "    </tr>\n",
       "    <tr>\n",
       "      <th>3</th>\n",
       "      <td>2022-07-04</td>\n",
       "      <td>Jacob</td>\n",
       "      <td>Day</td>\n",
       "      <td>1509.73</td>\n",
       "      <td>1687.75</td>\n",
       "      <td>178.02</td>\n",
       "      <td>11.79</td>\n",
       "      <td>0.00</td>\n",
       "      <td>Monday</td>\n",
       "      <td>40.0</td>\n",
       "    </tr>\n",
       "    <tr>\n",
       "      <th>4</th>\n",
       "      <td>2022-07-05</td>\n",
       "      <td>Ben</td>\n",
       "      <td>Day</td>\n",
       "      <td>1235.33</td>\n",
       "      <td>1412.25</td>\n",
       "      <td>176.92</td>\n",
       "      <td>14.32</td>\n",
       "      <td>7.06</td>\n",
       "      <td>Tuesday</td>\n",
       "      <td>40.0</td>\n",
       "    </tr>\n",
       "  </tbody>\n",
       "</table>\n",
       "</div>"
      ],
      "text/plain": [
       "         Date Sales_Rep  Shift  Expenses  Revenue  Profit  Profit%  \\\n",
       "0  2022-07-01       Ben  Night   1112.94  1288.00  175.06    15.73   \n",
       "1  2022-07-01     Jacob    Day   1095.50  1250.75  155.25    14.17   \n",
       "2  2022-07-04       Ben  Night   1120.94  1295.00  174.06    15.53   \n",
       "3  2022-07-04     Jacob    Day   1509.73  1687.75  178.02    11.79   \n",
       "4  2022-07-05       Ben    Day   1235.33  1412.25  176.92    14.32   \n",
       "\n",
       "   Commission  Weekday  Payment_Shift  \n",
       "0        6.44   Friday           50.0  \n",
       "1        6.25   Friday           40.0  \n",
       "2        6.47   Monday           50.0  \n",
       "3        0.00   Monday           40.0  \n",
       "4        7.06  Tuesday           40.0  "
      ]
     },
     "execution_count": 48,
     "metadata": {},
     "output_type": "execute_result"
    }
   ],
   "source": [
    "df.head()"
   ]
  },
  {
   "cell_type": "code",
   "execution_count": 49,
   "id": "95557517",
   "metadata": {},
   "outputs": [
    {
     "data": {
      "text/html": [
       "<div>\n",
       "<style scoped>\n",
       "    .dataframe tbody tr th:only-of-type {\n",
       "        vertical-align: middle;\n",
       "    }\n",
       "\n",
       "    .dataframe tbody tr th {\n",
       "        vertical-align: top;\n",
       "    }\n",
       "\n",
       "    .dataframe thead th {\n",
       "        text-align: right;\n",
       "    }\n",
       "</style>\n",
       "<table border=\"1\" class=\"dataframe\">\n",
       "  <thead>\n",
       "    <tr style=\"text-align: right;\">\n",
       "      <th></th>\n",
       "      <th>Date</th>\n",
       "      <th>Sales_Rep</th>\n",
       "      <th>Shift</th>\n",
       "      <th>Expenses</th>\n",
       "      <th>Revenue</th>\n",
       "      <th>Profit</th>\n",
       "      <th>Profit%</th>\n",
       "      <th>Commission</th>\n",
       "      <th>Weekday</th>\n",
       "      <th>Payment_Shift</th>\n",
       "    </tr>\n",
       "  </thead>\n",
       "  <tbody>\n",
       "    <tr>\n",
       "      <th>83</th>\n",
       "      <td>2022-08-29</td>\n",
       "      <td>Jacob</td>\n",
       "      <td>Day</td>\n",
       "      <td>774.20</td>\n",
       "      <td>946.25</td>\n",
       "      <td>172.05</td>\n",
       "      <td>22.22</td>\n",
       "      <td>14.19</td>\n",
       "      <td>Monday</td>\n",
       "      <td>40.0</td>\n",
       "    </tr>\n",
       "    <tr>\n",
       "      <th>84</th>\n",
       "      <td>2022-08-30</td>\n",
       "      <td>Ben</td>\n",
       "      <td>Day</td>\n",
       "      <td>1350.48</td>\n",
       "      <td>1509.50</td>\n",
       "      <td>159.02</td>\n",
       "      <td>11.78</td>\n",
       "      <td>0.00</td>\n",
       "      <td>Tuesday</td>\n",
       "      <td>40.0</td>\n",
       "    </tr>\n",
       "    <tr>\n",
       "      <th>85</th>\n",
       "      <td>2022-08-30</td>\n",
       "      <td>Jacob</td>\n",
       "      <td>Night</td>\n",
       "      <td>1053.37</td>\n",
       "      <td>1136.25</td>\n",
       "      <td>82.88</td>\n",
       "      <td>7.87</td>\n",
       "      <td>0.00</td>\n",
       "      <td>Tuesday</td>\n",
       "      <td>50.0</td>\n",
       "    </tr>\n",
       "    <tr>\n",
       "      <th>86</th>\n",
       "      <td>2022-08-31</td>\n",
       "      <td>Ben</td>\n",
       "      <td>Night</td>\n",
       "      <td>1161.92</td>\n",
       "      <td>1237.00</td>\n",
       "      <td>75.08</td>\n",
       "      <td>6.46</td>\n",
       "      <td>0.00</td>\n",
       "      <td>Wednesday</td>\n",
       "      <td>50.0</td>\n",
       "    </tr>\n",
       "    <tr>\n",
       "      <th>87</th>\n",
       "      <td>2022-08-31</td>\n",
       "      <td>Jacob</td>\n",
       "      <td>Day</td>\n",
       "      <td>951.93</td>\n",
       "      <td>1136.00</td>\n",
       "      <td>184.07</td>\n",
       "      <td>19.34</td>\n",
       "      <td>5.68</td>\n",
       "      <td>Wednesday</td>\n",
       "      <td>40.0</td>\n",
       "    </tr>\n",
       "  </tbody>\n",
       "</table>\n",
       "</div>"
      ],
      "text/plain": [
       "          Date Sales_Rep  Shift  Expenses  Revenue  Profit  Profit%  \\\n",
       "83  2022-08-29     Jacob    Day    774.20   946.25  172.05    22.22   \n",
       "84  2022-08-30       Ben    Day   1350.48  1509.50  159.02    11.78   \n",
       "85  2022-08-30     Jacob  Night   1053.37  1136.25   82.88     7.87   \n",
       "86  2022-08-31       Ben  Night   1161.92  1237.00   75.08     6.46   \n",
       "87  2022-08-31     Jacob    Day    951.93  1136.00  184.07    19.34   \n",
       "\n",
       "    Commission    Weekday  Payment_Shift  \n",
       "83       14.19     Monday           40.0  \n",
       "84        0.00    Tuesday           40.0  \n",
       "85        0.00    Tuesday           50.0  \n",
       "86        0.00  Wednesday           50.0  \n",
       "87        5.68  Wednesday           40.0  "
      ]
     },
     "execution_count": 49,
     "metadata": {},
     "output_type": "execute_result"
    }
   ],
   "source": [
    "df.tail()"
   ]
  },
  {
   "cell_type": "code",
   "execution_count": 50,
   "id": "1555d3f3",
   "metadata": {},
   "outputs": [
    {
     "data": {
      "text/plain": [
       "(88, 10)"
      ]
     },
     "execution_count": 50,
     "metadata": {},
     "output_type": "execute_result"
    }
   ],
   "source": [
    "df.shape"
   ]
  },
  {
   "cell_type": "code",
   "execution_count": 51,
   "id": "07e772f0",
   "metadata": {},
   "outputs": [
    {
     "name": "stdout",
     "output_type": "stream",
     "text": [
      "<class 'pandas.core.frame.DataFrame'>\n",
      "RangeIndex: 88 entries, 0 to 87\n",
      "Data columns (total 10 columns):\n",
      " #   Column         Non-Null Count  Dtype  \n",
      "---  ------         --------------  -----  \n",
      " 0   Date           88 non-null     object \n",
      " 1   Sales_Rep      88 non-null     object \n",
      " 2   Shift          88 non-null     object \n",
      " 3   Expenses       88 non-null     float64\n",
      " 4   Revenue        88 non-null     float64\n",
      " 5   Profit         88 non-null     float64\n",
      " 6   Profit%        88 non-null     float64\n",
      " 7   Commission     88 non-null     float64\n",
      " 8   Weekday        88 non-null     object \n",
      " 9   Payment_Shift  88 non-null     float64\n",
      "dtypes: float64(6), object(4)\n",
      "memory usage: 7.0+ KB\n"
     ]
    }
   ],
   "source": [
    "df.info()"
   ]
  },
  {
   "cell_type": "code",
   "execution_count": null,
   "id": "78e55a81",
   "metadata": {},
   "outputs": [],
   "source": []
  },
  {
   "cell_type": "code",
   "execution_count": 52,
   "id": "3817cc9e",
   "metadata": {},
   "outputs": [
    {
     "data": {
      "text/plain": [
       "<function matplotlib.pyplot.show(close=None, block=None)>"
      ]
     },
     "execution_count": 52,
     "metadata": {},
     "output_type": "execute_result"
    },
    {
     "data": {
      "image/png": "[encoded data removed]",
      "text/plain": [
       "<Figure size 432x288 with 1 Axes>"
      ]
     },
     "metadata": {
      "needs_background": "light"
     },
     "output_type": "display_data"
    }
   ],
   "source": [
    "import matplotlib.pyplot as plt\n",
    "img= plt.imread(\"C:/Users/DELL/Pictures/LOGO/HEADSHOT.jpg\")\n",
    "plt.imshow(img)\n",
    "plt.axis('off')\n",
    "plt.show"
   ]
  },
  {
   "cell_type": "markdown",
   "id": "ca9cd0ce",
   "metadata": {},
   "source": [
    "\n",
    "Done by: Jones Osele\n",
    "Email: oselejones@gmail.com"
   ]
  },
  {
   "cell_type": "code",
   "execution_count": null,
   "id": "3690e102",
   "metadata": {},
   "outputs": [],
   "source": []
  }
 ],
 "metadata": {
  "kernelspec": {
   "display_name": "Python 3",
   "language": "python",
   "name": "python3"
  },
  "language_info": {
   "codemirror_mode": {
    "name": "ipython",
    "version": 3
   },
   "file_extension": ".py",
   "mimetype": "text/x-python",
   "name": "python",
   "nbconvert_exporter": "python",
   "pygments_lexer": "ipython3",
   "version": "3.11.7"
  }
 },
 "nbformat": 4,
 "nbformat_minor": 5
}
