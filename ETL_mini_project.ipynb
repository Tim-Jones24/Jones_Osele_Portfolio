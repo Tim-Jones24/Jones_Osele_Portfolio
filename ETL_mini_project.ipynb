{
 "cells": [
  {
   "cell_type": "markdown",
   "metadata": {},
   "source": [
    "## ETL Project: CSV to SQL using Python"
   ]
  },
  {
   "cell_type": "markdown",
   "metadata": {},
   "source": [
    "#### Objective:"
   ]
  },
  {
   "cell_type": "markdown",
   "metadata": {},
   "source": [
    "This project is aimed to extract csv files from a folder,transform the data using Python, and load the data into an SQL \n",
    "Server database."
   ]
  },
  {
   "cell_type": "markdown",
   "metadata": {},
   "source": [
    "#### Tools/Technologies:"
   ]
  },
  {
   "cell_type": "markdown",
   "metadata": {},
   "source": [
    "* Python 3.12.1\n",
    "* Pandas Library\n",
    "* Pypyodbc Library\n",
    "* Sqlalchemy Library\n",
    "* SQL Server 2022 version\n",
    "* SQL Server Management Studio (SSMS)"
   ]
  },
  {
   "cell_type": "markdown",
   "metadata": {},
   "source": [
    "#### Load Libraries"
   ]
  },
  {
   "cell_type": "code",
   "execution_count": 33,
   "metadata": {},
   "outputs": [],
   "source": [
    "import pandas as pd\n",
    "from sqlalchemy import create_engine\n",
    "import pypyodbc as odbc\n",
    "from sqlalchemy.engine import  URL\n"
   ]
  },
  {
   "cell_type": "markdown",
   "metadata": {},
   "source": [
    "#### Extract:"
   ]
  },
  {
   "cell_type": "markdown",
   "metadata": {},
   "source": [
    "* Read CSV files from a designated folder using Pandas\n",
    "* Handle errors and exception"
   ]
  },
  {
   "cell_type": "markdown",
   "metadata": {},
   "source": [
    "#### People dataset"
   ]
  },
  {
   "cell_type": "code",
   "execution_count": 34,
   "metadata": {},
   "outputs": [
    {
     "data": {
      "text/html": [
       "<div>\n",
       "<style scoped>\n",
       "    .dataframe tbody tr th:only-of-type {\n",
       "        vertical-align: middle;\n",
       "    }\n",
       "\n",
       "    .dataframe tbody tr th {\n",
       "        vertical-align: top;\n",
       "    }\n",
       "\n",
       "    .dataframe thead th {\n",
       "        text-align: right;\n",
       "    }\n",
       "</style>\n",
       "<table border=\"1\" class=\"dataframe\">\n",
       "  <thead>\n",
       "    <tr style=\"text-align: right;\">\n",
       "      <th></th>\n",
       "      <th>Sales_person</th>\n",
       "      <th>SP_ID</th>\n",
       "      <th>Team</th>\n",
       "      <th>Location</th>\n",
       "    </tr>\n",
       "  </thead>\n",
       "  <tbody>\n",
       "    <tr>\n",
       "      <th>0</th>\n",
       "      <td>Barr Faughny</td>\n",
       "      <td>SP01</td>\n",
       "      <td>Yummies</td>\n",
       "      <td>Hyderabad</td>\n",
       "    </tr>\n",
       "    <tr>\n",
       "      <th>1</th>\n",
       "      <td>Dennison Crosswaite</td>\n",
       "      <td>SP02</td>\n",
       "      <td>Yummies</td>\n",
       "      <td>Hyderabad</td>\n",
       "    </tr>\n",
       "    <tr>\n",
       "      <th>2</th>\n",
       "      <td>Gunar Cockshoot</td>\n",
       "      <td>SP03</td>\n",
       "      <td>Yummies</td>\n",
       "      <td>Hyderabad</td>\n",
       "    </tr>\n",
       "    <tr>\n",
       "      <th>3</th>\n",
       "      <td>Wilone O'Kielt</td>\n",
       "      <td>SP04</td>\n",
       "      <td>Delish</td>\n",
       "      <td>Hyderabad</td>\n",
       "    </tr>\n",
       "    <tr>\n",
       "      <th>4</th>\n",
       "      <td>Gigi Bohling</td>\n",
       "      <td>SP05</td>\n",
       "      <td>Delish</td>\n",
       "      <td>Hyderabad</td>\n",
       "    </tr>\n",
       "  </tbody>\n",
       "</table>\n",
       "</div>"
      ],
      "text/plain": [
       "          Sales_person SP_ID     Team   Location\n",
       "0         Barr Faughny  SP01  Yummies  Hyderabad\n",
       "1  Dennison Crosswaite  SP02  Yummies  Hyderabad\n",
       "2      Gunar Cockshoot  SP03  Yummies  Hyderabad\n",
       "3       Wilone O'Kielt  SP04   Delish  Hyderabad\n",
       "4         Gigi Bohling  SP05   Delish  Hyderabad"
      ]
     },
     "execution_count": 34,
     "metadata": {},
     "output_type": "execute_result"
    }
   ],
   "source": [
    "df_1= pd.read_csv(\"C:/Users/DELL/Desktop/KIDDIE_ACADEMY/people.csv\")\n",
    "df_1.head(5)"
   ]
  },
  {
   "cell_type": "markdown",
   "metadata": {},
   "source": [
    "#### Transform:"
   ]
  },
  {
   "cell_type": "markdown",
   "metadata": {},
   "source": [
    "* Clean and preprocess data(e.g., Handle missing values, data type conversion)\n",
    "* Perform data transformation (e.g., aggregations, calculations)\n",
    "* Data quality checks (e.g., data validation, data profiling)"
   ]
  },
  {
   "cell_type": "markdown",
   "metadata": {},
   "source": [
    "* Checking Nulls"
   ]
  },
  {
   "cell_type": "code",
   "execution_count": 35,
   "metadata": {},
   "outputs": [
    {
     "data": {
      "text/plain": [
       "Sales_person    0\n",
       "SP_ID           0\n",
       "Team            5\n",
       "Location        0\n",
       "dtype: int64"
      ]
     },
     "execution_count": 35,
     "metadata": {},
     "output_type": "execute_result"
    }
   ],
   "source": [
    "df_1.isnull().sum()"
   ]
  },
  {
   "cell_type": "markdown",
   "metadata": {},
   "source": [
    "* Correcting Nulls"
   ]
  },
  {
   "cell_type": "code",
   "execution_count": 36,
   "metadata": {},
   "outputs": [],
   "source": [
    "df_1.fillna(value='N/A',inplace=True)"
   ]
  },
  {
   "cell_type": "code",
   "execution_count": 37,
   "metadata": {},
   "outputs": [
    {
     "data": {
      "text/plain": [
       "Sales_person    0\n",
       "SP_ID           0\n",
       "Team            0\n",
       "Location        0\n",
       "dtype: int64"
      ]
     },
     "execution_count": 37,
     "metadata": {},
     "output_type": "execute_result"
    }
   ],
   "source": [
    "df_1.isnull().sum()"
   ]
  },
  {
   "cell_type": "markdown",
   "metadata": {},
   "source": [
    "* Data Profiling"
   ]
  },
  {
   "cell_type": "code",
   "execution_count": 38,
   "metadata": {},
   "outputs": [
    {
     "data": {
      "text/plain": [
       "Sales_person    33\n",
       "SP_ID           33\n",
       "Team             4\n",
       "Location         4\n",
       "dtype: int64"
      ]
     },
     "execution_count": 38,
     "metadata": {},
     "output_type": "execute_result"
    }
   ],
   "source": [
    "df_1.nunique()"
   ]
  },
  {
   "cell_type": "markdown",
   "metadata": {},
   "source": [
    "* Data Overview"
   ]
  },
  {
   "cell_type": "code",
   "execution_count": 39,
   "metadata": {},
   "outputs": [
    {
     "name": "stdout",
     "output_type": "stream",
     "text": [
      "<class 'pandas.core.frame.DataFrame'>\n",
      "RangeIndex: 33 entries, 0 to 32\n",
      "Data columns (total 4 columns):\n",
      " #   Column        Non-Null Count  Dtype \n",
      "---  ------        --------------  ----- \n",
      " 0   Sales_person  33 non-null     object\n",
      " 1   SP_ID         33 non-null     object\n",
      " 2   Team          33 non-null     object\n",
      " 3   Location      33 non-null     object\n",
      "dtypes: object(4)\n",
      "memory usage: 1.2+ KB\n"
     ]
    }
   ],
   "source": [
    "df_1.info()"
   ]
  },
  {
   "cell_type": "markdown",
   "metadata": {},
   "source": [
    "#### Products dataset"
   ]
  },
  {
   "cell_type": "code",
   "execution_count": 40,
   "metadata": {},
   "outputs": [
    {
     "data": {
      "text/html": [
       "<div>\n",
       "<style scoped>\n",
       "    .dataframe tbody tr th:only-of-type {\n",
       "        vertical-align: middle;\n",
       "    }\n",
       "\n",
       "    .dataframe tbody tr th {\n",
       "        vertical-align: top;\n",
       "    }\n",
       "\n",
       "    .dataframe thead th {\n",
       "        text-align: right;\n",
       "    }\n",
       "</style>\n",
       "<table border=\"1\" class=\"dataframe\">\n",
       "  <thead>\n",
       "    <tr style=\"text-align: right;\">\n",
       "      <th></th>\n",
       "      <th>Product_ID</th>\n",
       "      <th>Product</th>\n",
       "      <th>Category</th>\n",
       "      <th>Size</th>\n",
       "      <th>Cost_per_Box</th>\n",
       "    </tr>\n",
       "  </thead>\n",
       "  <tbody>\n",
       "    <tr>\n",
       "      <th>0</th>\n",
       "      <td>P01</td>\n",
       "      <td>Milk Bars</td>\n",
       "      <td>Bars</td>\n",
       "      <td>LARGE</td>\n",
       "      <td>1.52</td>\n",
       "    </tr>\n",
       "    <tr>\n",
       "      <th>1</th>\n",
       "      <td>P02</td>\n",
       "      <td>50% Dark Bites</td>\n",
       "      <td>Bites</td>\n",
       "      <td>LARGE</td>\n",
       "      <td>2.57</td>\n",
       "    </tr>\n",
       "    <tr>\n",
       "      <th>2</th>\n",
       "      <td>P03</td>\n",
       "      <td>Almond Choco</td>\n",
       "      <td>Bars</td>\n",
       "      <td>LARGE</td>\n",
       "      <td>9.60</td>\n",
       "    </tr>\n",
       "    <tr>\n",
       "      <th>3</th>\n",
       "      <td>P04</td>\n",
       "      <td>Raspberry Choco</td>\n",
       "      <td>Bars</td>\n",
       "      <td>LARGE</td>\n",
       "      <td>4.09</td>\n",
       "    </tr>\n",
       "    <tr>\n",
       "      <th>4</th>\n",
       "      <td>P05</td>\n",
       "      <td>Mint Chip Choco</td>\n",
       "      <td>Bars</td>\n",
       "      <td>LARGE</td>\n",
       "      <td>1.54</td>\n",
       "    </tr>\n",
       "  </tbody>\n",
       "</table>\n",
       "</div>"
      ],
      "text/plain": [
       "  Product_ID          Product Category   Size  Cost_per_Box\n",
       "0        P01        Milk Bars     Bars  LARGE          1.52\n",
       "1        P02   50% Dark Bites    Bites  LARGE          2.57\n",
       "2        P03     Almond Choco     Bars  LARGE          9.60\n",
       "3        P04  Raspberry Choco     Bars  LARGE          4.09\n",
       "4        P05  Mint Chip Choco     Bars  LARGE          1.54"
      ]
     },
     "execution_count": 40,
     "metadata": {},
     "output_type": "execute_result"
    }
   ],
   "source": [
    "df_2= pd.read_csv(\"C:/Users/DELL/Desktop/KIDDIE_ACADEMY/products.csv\")\n",
    "df_2.head(5)"
   ]
  },
  {
   "cell_type": "markdown",
   "metadata": {},
   "source": [
    "* Checking Nulls"
   ]
  },
  {
   "cell_type": "code",
   "execution_count": 41,
   "metadata": {},
   "outputs": [
    {
     "data": {
      "text/plain": [
       "Product_ID      0\n",
       "Product         0\n",
       "Category        0\n",
       "Size            0\n",
       "Cost_per_Box    0\n",
       "dtype: int64"
      ]
     },
     "execution_count": 41,
     "metadata": {},
     "output_type": "execute_result"
    }
   ],
   "source": [
    "df_2.isnull().sum()"
   ]
  },
  {
   "cell_type": "markdown",
   "metadata": {},
   "source": [
    "* Data Profiling"
   ]
  },
  {
   "cell_type": "code",
   "execution_count": 42,
   "metadata": {},
   "outputs": [
    {
     "data": {
      "text/plain": [
       "Product_ID      22\n",
       "Product         22\n",
       "Category         3\n",
       "Size             2\n",
       "Cost_per_Box    22\n",
       "dtype: int64"
      ]
     },
     "execution_count": 42,
     "metadata": {},
     "output_type": "execute_result"
    }
   ],
   "source": [
    "df_2.nunique()"
   ]
  },
  {
   "cell_type": "markdown",
   "metadata": {},
   "source": [
    "* Data Overview"
   ]
  },
  {
   "cell_type": "code",
   "execution_count": 43,
   "metadata": {},
   "outputs": [
    {
     "name": "stdout",
     "output_type": "stream",
     "text": [
      "<class 'pandas.core.frame.DataFrame'>\n",
      "RangeIndex: 22 entries, 0 to 21\n",
      "Data columns (total 5 columns):\n",
      " #   Column        Non-Null Count  Dtype  \n",
      "---  ------        --------------  -----  \n",
      " 0   Product_ID    22 non-null     object \n",
      " 1   Product       22 non-null     object \n",
      " 2   Category      22 non-null     object \n",
      " 3   Size          22 non-null     object \n",
      " 4   Cost_per_Box  22 non-null     float64\n",
      "dtypes: float64(1), object(4)\n",
      "memory usage: 1012.0+ bytes\n"
     ]
    }
   ],
   "source": [
    "df_2.info()"
   ]
  },
  {
   "cell_type": "markdown",
   "metadata": {},
   "source": [
    "#### Sales dataset"
   ]
  },
  {
   "cell_type": "code",
   "execution_count": 44,
   "metadata": {},
   "outputs": [
    {
     "data": {
      "text/html": [
       "<div>\n",
       "<style scoped>\n",
       "    .dataframe tbody tr th:only-of-type {\n",
       "        vertical-align: middle;\n",
       "    }\n",
       "\n",
       "    .dataframe tbody tr th {\n",
       "        vertical-align: top;\n",
       "    }\n",
       "\n",
       "    .dataframe thead th {\n",
       "        text-align: right;\n",
       "    }\n",
       "</style>\n",
       "<table border=\"1\" class=\"dataframe\">\n",
       "  <thead>\n",
       "    <tr style=\"text-align: right;\">\n",
       "      <th></th>\n",
       "      <th>Sales_Person</th>\n",
       "      <th>Geo</th>\n",
       "      <th>Product_ID</th>\n",
       "      <th>Date</th>\n",
       "      <th>Amount</th>\n",
       "      <th>Customers</th>\n",
       "      <th>Boxes</th>\n",
       "    </tr>\n",
       "  </thead>\n",
       "  <tbody>\n",
       "    <tr>\n",
       "      <th>0</th>\n",
       "      <td>SP01</td>\n",
       "      <td>G4</td>\n",
       "      <td>P04</td>\n",
       "      <td>01/01/21</td>\n",
       "      <td>8414</td>\n",
       "      <td>276</td>\n",
       "      <td>495</td>\n",
       "    </tr>\n",
       "    <tr>\n",
       "      <th>1</th>\n",
       "      <td>SP02</td>\n",
       "      <td>G3</td>\n",
       "      <td>P14</td>\n",
       "      <td>01/01/21</td>\n",
       "      <td>532</td>\n",
       "      <td>317</td>\n",
       "      <td>54</td>\n",
       "    </tr>\n",
       "    <tr>\n",
       "      <th>2</th>\n",
       "      <td>SP12</td>\n",
       "      <td>G2</td>\n",
       "      <td>P08</td>\n",
       "      <td>01/01/21</td>\n",
       "      <td>5376</td>\n",
       "      <td>178</td>\n",
       "      <td>269</td>\n",
       "    </tr>\n",
       "    <tr>\n",
       "      <th>3</th>\n",
       "      <td>SP01</td>\n",
       "      <td>G4</td>\n",
       "      <td>P15</td>\n",
       "      <td>01/01/21</td>\n",
       "      <td>259</td>\n",
       "      <td>32</td>\n",
       "      <td>22</td>\n",
       "    </tr>\n",
       "    <tr>\n",
       "      <th>4</th>\n",
       "      <td>SP19</td>\n",
       "      <td>G2</td>\n",
       "      <td>P18</td>\n",
       "      <td>01/01/21</td>\n",
       "      <td>5530</td>\n",
       "      <td>4</td>\n",
       "      <td>179</td>\n",
       "    </tr>\n",
       "  </tbody>\n",
       "</table>\n",
       "</div>"
      ],
      "text/plain": [
       "  Sales_Person Geo Product_ID      Date  Amount  Customers  Boxes\n",
       "0         SP01  G4        P04  01/01/21    8414        276    495\n",
       "1         SP02  G3        P14  01/01/21     532        317     54\n",
       "2         SP12  G2        P08  01/01/21    5376        178    269\n",
       "3         SP01  G4        P15  01/01/21     259         32     22\n",
       "4         SP19  G2        P18  01/01/21    5530          4    179"
      ]
     },
     "execution_count": 44,
     "metadata": {},
     "output_type": "execute_result"
    }
   ],
   "source": [
    "df_3= pd.read_csv(\"C:/Users/DELL/Desktop/KIDDIE_ACADEMY/sales.csv\")\n",
    "df_3.head(5)"
   ]
  },
  {
   "cell_type": "markdown",
   "metadata": {},
   "source": [
    "* Checking Nulls"
   ]
  },
  {
   "cell_type": "code",
   "execution_count": 45,
   "metadata": {},
   "outputs": [
    {
     "data": {
      "text/plain": [
       "Sales_Person    0\n",
       "Geo             0\n",
       "Product_ID      0\n",
       "Date            0\n",
       "Amount          0\n",
       "Customers       0\n",
       "Boxes           0\n",
       "dtype: int64"
      ]
     },
     "execution_count": 45,
     "metadata": {},
     "output_type": "execute_result"
    }
   ],
   "source": [
    "df_3.isnull().sum()"
   ]
  },
  {
   "cell_type": "markdown",
   "metadata": {},
   "source": [
    "* Data Profiling"
   ]
  },
  {
   "cell_type": "code",
   "execution_count": 46,
   "metadata": {},
   "outputs": [
    {
     "data": {
      "text/plain": [
       "Sales_Person      25\n",
       "Geo                6\n",
       "Product_ID        22\n",
       "Date             325\n",
       "Amount          2138\n",
       "Customers        559\n",
       "Boxes           1295\n",
       "dtype: int64"
      ]
     },
     "execution_count": 46,
     "metadata": {},
     "output_type": "execute_result"
    }
   ],
   "source": [
    "df_3.nunique()"
   ]
  },
  {
   "cell_type": "markdown",
   "metadata": {},
   "source": [
    "* Data Overview"
   ]
  },
  {
   "cell_type": "code",
   "execution_count": 47,
   "metadata": {},
   "outputs": [
    {
     "name": "stdout",
     "output_type": "stream",
     "text": [
      "<class 'pandas.core.frame.DataFrame'>\n",
      "RangeIndex: 7617 entries, 0 to 7616\n",
      "Data columns (total 7 columns):\n",
      " #   Column        Non-Null Count  Dtype \n",
      "---  ------        --------------  ----- \n",
      " 0   Sales_Person  7617 non-null   object\n",
      " 1   Geo           7617 non-null   object\n",
      " 2   Product_ID    7617 non-null   object\n",
      " 3   Date          7617 non-null   object\n",
      " 4   Amount        7617 non-null   int64 \n",
      " 5   Customers     7617 non-null   int64 \n",
      " 6   Boxes         7617 non-null   int64 \n",
      "dtypes: int64(3), object(4)\n",
      "memory usage: 416.7+ KB\n"
     ]
    }
   ],
   "source": [
    "df_3.info()"
   ]
  },
  {
   "cell_type": "markdown",
   "metadata": {},
   "source": [
    "#### Load:"
   ]
  },
  {
   "cell_type": "markdown",
   "metadata": {},
   "source": [
    "* Connect to SQL Server database using Python\n"
   ]
  },
  {
   "cell_type": "code",
   "execution_count": 48,
   "metadata": {},
   "outputs": [],
   "source": [
    "server= 'DESKTOP-ULUKUD4'\n",
    "database= 'Kiddie'\n",
    "driver= '{SQL Server}'\n",
    "connection= URL.create('mssql+pyodbc',\n",
    "                           query={'odbc_connect': f'DRIVER={driver};SERVER={server};DATABASE={database}'})\n",
    "engine= create_engine(connection,module=odbc)"
   ]
  },
  {
   "cell_type": "markdown",
   "metadata": {},
   "source": [
    "* Create tables and load data into SQL Server database"
   ]
  },
  {
   "cell_type": "code",
   "execution_count": 49,
   "metadata": {},
   "outputs": [
    {
     "data": {
      "text/plain": [
       "142"
      ]
     },
     "execution_count": 49,
     "metadata": {},
     "output_type": "execute_result"
    }
   ],
   "source": [
    "df_1.to_sql('people',con=engine,if_exists='replace',index=False)\n",
    "df_2.to_sql('products',con=engine,if_exists='replace',index=False)\n",
    "df_3.to_sql('sales',con=engine,if_exists='replace',index=False)"
   ]
  },
  {
   "cell_type": "markdown",
   "metadata": {},
   "source": [
    "Project done by: Jones Osele"
   ]
  },
  {
   "cell_type": "markdown",
   "metadata": {},
   "source": [
    "email: oselejones@gmail.com"
   ]
  }
 ],
 "metadata": {
  "kernelspec": {
   "display_name": "Python 3",
   "language": "python",
   "name": "python3"
  },
  "language_info": {
   "codemirror_mode": {
    "name": "ipython",
    "version": 3
   },
   "file_extension": ".py",
   "mimetype": "text/x-python",
   "name": "python",
   "nbconvert_exporter": "python",
   "pygments_lexer": "ipython3",
   "version": "3.12.1"
  }
 },
 "nbformat": 4,
 "nbformat_minor": 2
}
