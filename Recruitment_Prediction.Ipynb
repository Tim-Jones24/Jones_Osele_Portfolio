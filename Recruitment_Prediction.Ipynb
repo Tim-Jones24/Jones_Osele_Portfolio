{
 "cells": [
  {
   "cell_type": "markdown",
   "metadata": {},
   "source": [
    "* Import Libraries"
   ]
  },
  {
   "cell_type": "code",
   "execution_count": 10,
   "metadata": {},
   "outputs": [],
   "source": [
    "import pandas as pd\n",
    "import numpy as np\n",
    "import matplotlib.pyplot as plt\n",
    "import seaborn as sns\n",
    "from sklearn.preprocessing import LabelEncoder,MinMaxScaler\n",
    "from sklearn.linear_model import LogisticRegression\n",
    "from sklearn.model_selection import train_test_split\n",
    "from sklearn.metrics import mean_squared_error,root_mean_squared_error,accuracy_score\n",
    "from sklearn.tree import DecisionTreeClassifier\n"
   ]
  },
  {
   "cell_type": "code",
   "execution_count": 2,
   "metadata": {},
   "outputs": [
    {
     "data": {
      "text/html": [
       "<div>\n",
       "<style scoped>\n",
       "    .dataframe tbody tr th:only-of-type {\n",
       "        vertical-align: middle;\n",
       "    }\n",
       "\n",
       "    .dataframe tbody tr th {\n",
       "        vertical-align: top;\n",
       "    }\n",
       "\n",
       "    .dataframe thead th {\n",
       "        text-align: right;\n",
       "    }\n",
       "</style>\n",
       "<table border=\"1\" class=\"dataframe\">\n",
       "  <thead>\n",
       "    <tr style=\"text-align: right;\">\n",
       "      <th></th>\n",
       "      <th>Name</th>\n",
       "      <th>Emp ID</th>\n",
       "      <th>Gender</th>\n",
       "      <th>Education Qualification</th>\n",
       "      <th>Hired date</th>\n",
       "      <th>Job Title</th>\n",
       "      <th>Salary</th>\n",
       "      <th>Age</th>\n",
       "      <th>Leave Balance</th>\n",
       "      <th>Staff Level</th>\n",
       "      <th>Salary Range</th>\n",
       "      <th>Age Range</th>\n",
       "      <th>Leave Balance Range</th>\n",
       "    </tr>\n",
       "  </thead>\n",
       "  <tbody>\n",
       "    <tr>\n",
       "      <th>0</th>\n",
       "      <td>Barr Faughny</td>\n",
       "      <td>AC0001</td>\n",
       "      <td>Male</td>\n",
       "      <td>Bachelor's Degree</td>\n",
       "      <td>06/12/20</td>\n",
       "      <td>Chocolatier</td>\n",
       "      <td>51300.0</td>\n",
       "      <td>26</td>\n",
       "      <td>13</td>\n",
       "      <td>Low Level</td>\n",
       "      <td>Low</td>\n",
       "      <td>Early Carrer</td>\n",
       "      <td>Low</td>\n",
       "    </tr>\n",
       "    <tr>\n",
       "      <th>1</th>\n",
       "      <td>Dennison Crosswaite</td>\n",
       "      <td>AC0002</td>\n",
       "      <td>Female</td>\n",
       "      <td>Diploma</td>\n",
       "      <td>02/18/21</td>\n",
       "      <td>Production Operator</td>\n",
       "      <td>38300.0</td>\n",
       "      <td>33</td>\n",
       "      <td>12</td>\n",
       "      <td>Low Level</td>\n",
       "      <td>Very Low</td>\n",
       "      <td>Early Carrer</td>\n",
       "      <td>Low</td>\n",
       "    </tr>\n",
       "    <tr>\n",
       "      <th>2</th>\n",
       "      <td>Gunar Cockshoot</td>\n",
       "      <td>AC0003</td>\n",
       "      <td>Male</td>\n",
       "      <td>High School Diploma</td>\n",
       "      <td>09/05/22</td>\n",
       "      <td>Packaging Associate</td>\n",
       "      <td>31400.0</td>\n",
       "      <td>34</td>\n",
       "      <td>16</td>\n",
       "      <td>Low Level</td>\n",
       "      <td>Very Low</td>\n",
       "      <td>Early Carrer</td>\n",
       "      <td>Low</td>\n",
       "    </tr>\n",
       "    <tr>\n",
       "      <th>3</th>\n",
       "      <td>Wilone O'Kielt</td>\n",
       "      <td>AC0004</td>\n",
       "      <td>Female</td>\n",
       "      <td>Bachelor's Degree</td>\n",
       "      <td>11/20/19</td>\n",
       "      <td>Marketing Specialist</td>\n",
       "      <td>60700.0</td>\n",
       "      <td>30</td>\n",
       "      <td>21</td>\n",
       "      <td>Low Level</td>\n",
       "      <td>High</td>\n",
       "      <td>Early Carrer</td>\n",
       "      <td>High</td>\n",
       "    </tr>\n",
       "    <tr>\n",
       "      <th>4</th>\n",
       "      <td>Gigi Bohling</td>\n",
       "      <td>AC0005</td>\n",
       "      <td>Male</td>\n",
       "      <td>Master's Degree</td>\n",
       "      <td>04/08/18</td>\n",
       "      <td>Research Scientist</td>\n",
       "      <td>77300.0</td>\n",
       "      <td>30</td>\n",
       "      <td>23</td>\n",
       "      <td>Mid Level</td>\n",
       "      <td>Very High</td>\n",
       "      <td>Early Carrer</td>\n",
       "      <td>High</td>\n",
       "    </tr>\n",
       "  </tbody>\n",
       "</table>\n",
       "</div>"
      ],
      "text/plain": [
       "                  Name  Emp ID  Gender Education Qualification Hired date  \\\n",
       "0         Barr Faughny  AC0001    Male       Bachelor's Degree   06/12/20   \n",
       "1  Dennison Crosswaite  AC0002  Female                 Diploma   02/18/21   \n",
       "2      Gunar Cockshoot  AC0003    Male     High School Diploma   09/05/22   \n",
       "3       Wilone O'Kielt  AC0004  Female       Bachelor's Degree   11/20/19   \n",
       "4         Gigi Bohling  AC0005    Male         Master's Degree   04/08/18   \n",
       "\n",
       "              Job Title   Salary  Age  Leave Balance Staff Level Salary Range  \\\n",
       "0           Chocolatier  51300.0   26             13   Low Level          Low   \n",
       "1   Production Operator  38300.0   33             12   Low Level     Very Low   \n",
       "2   Packaging Associate  31400.0   34             16   Low Level     Very Low   \n",
       "3  Marketing Specialist  60700.0   30             21   Low Level         High   \n",
       "4    Research Scientist  77300.0   30             23   Mid Level    Very High   \n",
       "\n",
       "      Age Range Leave Balance Range  \n",
       "0  Early Carrer                 Low  \n",
       "1  Early Carrer                 Low  \n",
       "2  Early Carrer                 Low  \n",
       "3  Early Carrer                High  \n",
       "4  Early Carrer                High  "
      ]
     },
     "execution_count": 2,
     "metadata": {},
     "output_type": "execute_result"
    }
   ],
   "source": [
    "df= pd.read_csv('employee.csv')\n",
    "df.head(5)"
   ]
  },
  {
   "cell_type": "code",
   "execution_count": 4,
   "metadata": {},
   "outputs": [
    {
     "data": {
      "text/plain": [
       "(162, 13)"
      ]
     },
     "execution_count": 4,
     "metadata": {},
     "output_type": "execute_result"
    }
   ],
   "source": [
    "df.shape"
   ]
  },
  {
   "cell_type": "code",
   "execution_count": 5,
   "metadata": {},
   "outputs": [
    {
     "data": {
      "text/plain": [
       "Name                       0\n",
       "Emp ID                     0\n",
       "Gender                     0\n",
       "Education Qualification    0\n",
       "Hired date                 0\n",
       "Job Title                  0\n",
       "Salary                     0\n",
       "Age                        0\n",
       "Leave Balance              0\n",
       "Staff Level                0\n",
       "Salary Range               0\n",
       "Age Range                  0\n",
       "Leave Balance Range        0\n",
       "dtype: int64"
      ]
     },
     "execution_count": 5,
     "metadata": {},
     "output_type": "execute_result"
    }
   ],
   "source": [
    "df.isna().sum()"
   ]
  },
  {
   "cell_type": "code",
   "execution_count": 6,
   "metadata": {},
   "outputs": [
    {
     "data": {
      "text/plain": [
       "Index(['Name', 'Emp ID', 'Gender', 'Education Qualification', 'Hired date',\n",
       "       'Job Title', 'Salary', 'Age', 'Leave Balance', 'Staff Level',\n",
       "       'Salary Range', 'Age Range', 'Leave Balance Range'],\n",
       "      dtype='object')"
      ]
     },
     "execution_count": 6,
     "metadata": {},
     "output_type": "execute_result"
    }
   ],
   "source": [
    "df.columns"
   ]
  },
  {
   "cell_type": "code",
   "execution_count": null,
   "metadata": {},
   "outputs": [],
   "source": []
  }
 ],
 "metadata": {
  "kernelspec": {
   "display_name": "Python 3",
   "language": "python",
   "name": "python3"
  },
  "language_info": {
   "codemirror_mode": {
    "name": "ipython",
    "version": 3
   },
   "file_extension": ".py",
   "mimetype": "text/x-python",
   "name": "python",
   "nbconvert_exporter": "python",
   "pygments_lexer": "ipython3",
   "version": "3.12.1"
  }
 },
 "nbformat": 4,
 "nbformat_minor": 2
}
